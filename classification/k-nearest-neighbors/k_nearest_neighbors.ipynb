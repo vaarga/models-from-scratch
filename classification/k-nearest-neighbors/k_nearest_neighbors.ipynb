{
 "cells": [
  {
   "metadata": {},
   "cell_type": "markdown",
   "source": "# K-Nearest Neighbors",
   "id": "ef0084248a32e23c"
  },
  {
   "metadata": {
    "ExecuteTime": {
     "end_time": "2025-03-08T17:12:20.054760Z",
     "start_time": "2025-03-08T17:12:19.083427Z"
    }
   },
   "cell_type": "code",
   "source": [
    "import numpy as np\n",
    "import matplotlib.pyplot as plt\n",
    "from matplotlib.colors import ListedColormap\n",
    "from matplotlib.animation import FuncAnimation, PillowWriter\n",
    "from sklearn.datasets import load_iris\n",
    "from sklearn.model_selection import train_test_split\n",
    "from sklearn.metrics import accuracy_score\n",
    "from sklearn.neighbors import KNeighborsClassifier"
   ],
   "id": "2af0d79f112a2c64",
   "outputs": [],
   "execution_count": 1
  },
  {
   "metadata": {},
   "cell_type": "markdown",
   "source": "## Load and Preprocess the Dataset",
   "id": "56e4c00385e647a3"
  },
  {
   "metadata": {
    "ExecuteTime": {
     "end_time": "2025-03-08T17:12:21.017179Z",
     "start_time": "2025-03-08T17:12:21.009107Z"
    }
   },
   "cell_type": "code",
   "source": [
    "iris = load_iris(as_frame=True)\n",
    "selected_samples = iris.target > 0\n",
    "X = iris.data[['petal length (cm)', 'petal width (cm)']][selected_samples]\n",
    "y = iris.target[selected_samples] - 1\n",
    "X_train, X_test, y_train, y_test = train_test_split(X, y, random_state=42)"
   ],
   "id": "initial_id",
   "outputs": [],
   "execution_count": 2
  },
  {
   "metadata": {},
   "cell_type": "markdown",
   "source": "## Create the Algorithm from Scratch",
   "id": "4a5a388b38334e24"
  },
  {
   "metadata": {
    "ExecuteTime": {
     "end_time": "2025-03-08T17:12:21.981644Z",
     "start_time": "2025-03-08T17:12:21.968957Z"
    }
   },
   "cell_type": "code",
   "source": [
    "class KNeighborsClassifierFromScratch:\n",
    "    PLOT_X_LIM = [3, 7]\n",
    "    PLOT_Y_LIM = [0, 4]\n",
    "    CMAP = ListedColormap(['tab:blue', 'tab:orange'])\n",
    "    \n",
    "    def __init__(self, n_neighbors=5):\n",
    "        self.n_neighbors = n_neighbors\n",
    "        self.X_train = None\n",
    "        self.y_train = None\n",
    "        self.X_train_len = None\n",
    "        self.X_test_len = None\n",
    "    \n",
    "    def fit(self, x_train_param, y_train_param):\n",
    "        self.X_train = x_train_param\n",
    "        self.y_train = y_train_param\n",
    "        \n",
    "    def get_xs_transformed(self, x_test_param):\n",
    "        x_train_transformed = np.vstack([X_train] * self.X_test_len)\n",
    "        x_test_transformed = np.array(x_test_param).repeat(self.X_train_len, axis=0)\n",
    "    \n",
    "        return x_train_transformed, x_test_transformed\n",
    "        \n",
    "    def get_nearest_instance_indexes(self, x_train_transformed_param, x_test_transformed_param):\n",
    "        differences = x_train_transformed_param - x_test_transformed_param\n",
    "        distances = np.linalg.norm(differences, axis=1)\n",
    "        split_distances = np.split(distances, self.X_test_len)\n",
    "\n",
    "        return np.argpartition(split_distances, self.n_neighbors)[:, :self.n_neighbors]\n",
    "\n",
    "    def get_predicted_classes(self, y_train_param, nearest_instance_indexes_param):\n",
    "        nearest_instance_classes = np.array(y_train_param)[nearest_instance_indexes_param]\n",
    "        reshaped_nearest_instance_classes = nearest_instance_classes.reshape((self.X_test_len, \n",
    "                                                                              self.n_neighbors))\n",
    "        target_values_nr = np.max(y_train_param) + 1\n",
    "        counted_classes = np.array([\n",
    "            np.bincount(row, minlength=target_values_nr) \n",
    "            for row in reshaped_nearest_instance_classes\n",
    "        ])\n",
    "    \n",
    "        return np.argmax(counted_classes, axis=1)\n",
    "        \n",
    "    def animate(self, frame, ax, x_test_param, nearest_instances, predicted_classes):\n",
    "        prediction_nr = int(np.floor(frame / 2) + 1)\n",
    "        cut_x_test = x_test_param[:prediction_nr * 2]\n",
    "        cut_nearest_instances = nearest_instances[:prediction_nr * 2]\n",
    "        cut_predicted_classes = predicted_classes[:prediction_nr * 2]\n",
    "\n",
    "        ax.clear()\n",
    "        ax.set_xlim(self.PLOT_X_LIM)\n",
    "        ax.set_ylim(self.PLOT_Y_LIM)\n",
    "        ax.axhline(0, color='black')\n",
    "        ax.axvline(0, color='black')\n",
    "\n",
    "        # Draw training data points\n",
    "        scatter = ax.scatter(self.X_train.iloc[:, 0], self.X_train.iloc[:, 1], c=self.y_train, \n",
    "                             cmap=self.CMAP, edgecolors='black', alpha=0.5)\n",
    "\n",
    "        ax.legend(handles=scatter.legend_elements()[0], labels=['Versicolor', 'Virginica'])\n",
    "\n",
    "        # Draw testing data points\n",
    "        ax.scatter(cut_x_test[:, 0][:-2], cut_x_test[:, 1][:-2], c=cut_predicted_classes[:-2], \n",
    "                   cmap=self.CMAP, edgecolors='black', marker='s')\n",
    "        ax.scatter(cut_x_test[:, 0][-2:], cut_x_test[:, 1][-2:], c='red', edgecolors='black', \n",
    "                   marker='s')\n",
    "\n",
    "        # Draw lines between training and testing data points\n",
    "        x_test_instance = cut_x_test[(prediction_nr * 2) - 1]\n",
    "\n",
    "        if frame % 2 != 0:\n",
    "            for nearest_instance in cut_nearest_instances[(prediction_nr * 2) - 1]:\n",
    "                line_coordinates_x = [x_test_instance[0], nearest_instance[0]]\n",
    "                line_coordinates_y = [x_test_instance[1], nearest_instance[1]]\n",
    "    \n",
    "                ax.plot(line_coordinates_x, line_coordinates_y, color='red')\n",
    "\n",
    "        ax.set_axisbelow(True)\n",
    "        ax.grid(color='grey')\n",
    "        ax.set_title(f\"#{prediction_nr} Prediction\")\n",
    "        ax.set_xlabel('petal length (cm)')\n",
    "        ax.set_ylabel('petal width (cm)')\n",
    "        ax.set_xticks(np.arange(self.PLOT_X_LIM[0], self.PLOT_X_LIM[1] + 1))\n",
    "        ax.set_yticks(np.arange(self.PLOT_Y_LIM[0], self.PLOT_Y_LIM[1] + 1))\n",
    "        \n",
    "    def predict(self, x_test_param, create_animation=False):\n",
    "        self.X_train_len = len(X_train)\n",
    "        self.X_test_len = len(X_test)        \n",
    "\n",
    "        x_train_transformed, x_test_transformed = self.get_xs_transformed(x_test_param)\n",
    "        nearest_instance_indexes = self.get_nearest_instance_indexes(x_train_transformed, \n",
    "                                                                     x_test_transformed)\n",
    "        predicted_classes = self.get_predicted_classes(y_train, nearest_instance_indexes)\n",
    "        \n",
    "        if create_animation:\n",
    "            if len(x_test_param.iloc[0]) != 2:\n",
    "                raise Exception((\"This K-Nearest Neighbors animation implementation works only \"\n",
    "                                 \"with two-dimensional features!\"))\n",
    "            \n",
    "            frames = self.X_test_len * 2\n",
    "            nearest_instances = np.array(X_train)[nearest_instance_indexes]\n",
    "\n",
    "            fig, ax = plt.subplots(figsize=plt.figaspect(1.))\n",
    "            animation = FuncAnimation(fig, self.animate, frames, fargs=(\n",
    "                ax, np.array(x_test_param).repeat(2, axis=0), nearest_instances.repeat(2, axis=0), \n",
    "                predicted_classes.repeat(2, axis=0)\n",
    "            ))\n",
    "\n",
    "            animation.save('k_nearest_neighbors.gif', writer=PillowWriter(fps=10), dpi=200)\n",
    "        \n",
    "        return predicted_classes"
   ],
   "id": "32e2d4d0806f18a5",
   "outputs": [],
   "execution_count": 3
  },
  {
   "metadata": {},
   "cell_type": "markdown",
   "source": "## Create an Animation and Compare Implementations",
   "id": "cf0c4bcbc3d2eec8"
  },
  {
   "metadata": {
    "ExecuteTime": {
     "end_time": "2025-03-08T17:12:26.807626Z",
     "start_time": "2025-03-08T17:12:22.898773Z"
    }
   },
   "cell_type": "code",
   "source": [
    "model_from_scratch = KNeighborsClassifierFromScratch()\n",
    "\n",
    "model_from_scratch.fit(X_train, y_train)\n",
    "\n",
    "y_pred = model_from_scratch.predict(X_test, create_animation=True)\n",
    "\n",
    "accuracy_score(y_test, y_pred)"
   ],
   "id": "3d372121fa8f7491",
   "outputs": [
    {
     "data": {
      "text/plain": [
       "0.8"
      ]
     },
     "execution_count": 4,
     "metadata": {},
     "output_type": "execute_result"
    },
    {
     "data": {
      "text/plain": [
       "<Figure size 480x480 with 1 Axes>"
      ],
      "image/png": "[encoded data removed]"
     },
     "metadata": {},
     "output_type": "display_data"
    }
   ],
   "execution_count": 4
  },
  {
   "metadata": {
    "ExecuteTime": {
     "end_time": "2025-03-08T17:12:26.819013Z",
     "start_time": "2025-03-08T17:12:26.809303Z"
    }
   },
   "cell_type": "code",
   "source": [
    "model = KNeighborsClassifier()\n",
    "\n",
    "model.fit(X_train, y_train)\n",
    "\n",
    "y_pred = model.predict(X_test)\n",
    "\n",
    "accuracy_score(y_test, y_pred)"
   ],
   "id": "215e954f5758a69",
   "outputs": [
    {
     "data": {
      "text/plain": [
       "0.8"
      ]
     },
     "execution_count": 5,
     "metadata": {},
     "output_type": "execute_result"
    }
   ],
   "execution_count": 5
  },
  {
   "metadata": {},
   "cell_type": "code",
   "source": "",
   "id": "74044b734ba50c7",
   "outputs": [],
   "execution_count": null
  }
 ],
 "metadata": {
  "kernelspec": {
   "display_name": "Python 3",
   "language": "python",
   "name": "python3"
  },
  "language_info": {
   "codemirror_mode": {
    "name": "ipython",
    "version": 2
   },
   "file_extension": ".py",
   "mimetype": "text/x-python",
   "name": "python",
   "nbconvert_exporter": "python",
   "pygments_lexer": "ipython2",
   "version": "2.7.6"
  }
 },
 "nbformat": 4,
 "nbformat_minor": 5
}
