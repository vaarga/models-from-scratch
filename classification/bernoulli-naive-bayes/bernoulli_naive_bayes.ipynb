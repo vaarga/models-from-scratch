{
 "cells": [
  {
   "metadata": {},
   "cell_type": "markdown",
   "source": "# Bernoulli Naive Bayes",
   "id": "ef0084248a32e23c"
  },
  {
   "metadata": {
    "ExecuteTime": {
     "end_time": "2025-03-02T13:41:33.313770Z",
     "start_time": "2025-03-02T13:41:32.248381Z"
    }
   },
   "cell_type": "code",
   "source": [
    "import numpy as np\n",
    "import pandas as pd\n",
    "import matplotlib.pyplot as plt\n",
    "from matplotlib import colors\n",
    "from matplotlib.animation import FuncAnimation, PillowWriter\n",
    "from sklearn.datasets import load_iris\n",
    "from sklearn.preprocessing import KBinsDiscretizer\n",
    "from sklearn.model_selection import train_test_split\n",
    "from sklearn.naive_bayes import BernoulliNB\n",
    "from sklearn.metrics import accuracy_score"
   ],
   "id": "2af0d79f112a2c64",
   "outputs": [],
   "execution_count": 1
  },
  {
   "metadata": {},
   "cell_type": "markdown",
   "source": "## Load and Preprocess the Dataset",
   "id": "56e4c00385e647a3"
  },
  {
   "metadata": {
    "ExecuteTime": {
     "end_time": "2025-03-02T13:41:33.329916Z",
     "start_time": "2025-03-02T13:41:33.315087Z"
    }
   },
   "cell_type": "code",
   "source": [
    "iris = load_iris(as_frame=True)\n",
    "bins_nr = 5\n",
    "petal_length_binner = KBinsDiscretizer(n_bins=bins_nr, encode='ordinal', strategy='uniform')\n",
    "petal_width_binner = KBinsDiscretizer(n_bins=bins_nr, encode='ordinal', strategy='uniform')\n",
    "\n",
    "X = iris.data[['petal length (cm)', 'petal width (cm)']].copy()\n",
    "X['petal length (cm) bins'] = petal_length_binner.fit_transform(X[['petal length (cm)']])\n",
    "X['petal width (cm) bins'] = petal_width_binner.fit_transform(X[['petal width (cm)']])\n",
    "X = pd.get_dummies(X, columns=['petal width (cm) bins', 'petal length (cm) bins'])\n",
    "y = iris.target\n",
    "\n",
    "X_train, X_test, y_train, y_test = train_test_split(X, y, random_state=42)"
   ],
   "id": "bb9508eb1aeb408",
   "outputs": [],
   "execution_count": 2
  },
  {
   "metadata": {},
   "cell_type": "markdown",
   "source": "## Create the Model from Scratch",
   "id": "4a5a388b38334e24"
  },
  {
   "metadata": {
    "ExecuteTime": {
     "end_time": "2025-03-02T13:41:33.348581Z",
     "start_time": "2025-03-02T13:41:33.331012Z"
    }
   },
   "cell_type": "code",
   "source": [
    "class BernoulliNBFromScratch:\n",
    "    PLOT_X1_LIM = [0, 7]\n",
    "    PLOT_X2_LIM = [0, 3]\n",
    "    COLORS = ['tab:blue', 'tab:orange', 'tab:green']\n",
    "    CMAP = colors.LinearSegmentedColormap.from_list('', COLORS)\n",
    "    \n",
    "    def __init__(self, alpha=1):\n",
    "        self.alpha = alpha\n",
    "        self.X_train = None\n",
    "        self.y_train = None\n",
    "        self.probabilities = {}\n",
    "        self.base_target_probabilities = {}\n",
    "        self.target_name = None\n",
    "        self.target_values = None\n",
    "\n",
    "    def get_feature_value_probabilities_for_target(self, target_value_instances, \n",
    "                                                   target_value_occurrence, feature_name, \n",
    "                                                   feature_values):\n",
    "        feature_value_probabilities_for_target = {}\n",
    "\n",
    "        for feature_value in feature_values:\n",
    "            feature_value_occurrence = len(\n",
    "                target_value_instances[target_value_instances[feature_name] == feature_value]\n",
    "            )\n",
    "            feature_value_probabilities_for_target[int(feature_value)] = (\n",
    "                (feature_value_occurrence + self.alpha) / \n",
    "                (target_value_occurrence + 2 * self.alpha)\n",
    "            )\n",
    "            \n",
    "        return feature_value_probabilities_for_target\n",
    "\n",
    "    def get_target_value_probabilities(self, dataset, target_value):\n",
    "        target_value_instances = dataset[dataset[self.target_name] == target_value]\n",
    "        target_value_occurrence = len(target_value_instances)\n",
    "        all_occurrences = len(dataset)\n",
    "        \n",
    "        self.base_target_probabilities[int(target_value)] = (\n",
    "                target_value_occurrence / all_occurrences\n",
    "        )\n",
    "        \n",
    "        target_value_probabilities = {}\n",
    "        feature_names = list(dataset.columns)\n",
    "\n",
    "        feature_names.remove(self.target_name)\n",
    "\n",
    "        for feature_name in feature_names:\n",
    "            feature_values = dataset[feature_name].unique()\n",
    "            feature_value_probabilities = self.get_feature_value_probabilities_for_target(\n",
    "                target_value_instances, target_value_occurrence, feature_name, feature_values\n",
    "            )\n",
    "            target_value_probabilities[feature_name] = feature_value_probabilities\n",
    " \n",
    "        return target_value_probabilities\n",
    "    \n",
    "    def fit(self, x_train_param, y_train_param):\n",
    "        self.X_train = x_train_param\n",
    "        self.y_train = y_train_param\n",
    "        self.target_name = y_train_param.name\n",
    "        self.target_values = y_train_param.unique()\n",
    "\n",
    "        self.target_values.sort()\n",
    "  \n",
    "        x_train_without_continuous_columns = x_train_param.drop(\n",
    "            ['petal length (cm)', 'petal width (cm)'], axis=1\n",
    "        )\n",
    "\n",
    "        dataset = pd.concat([x_train_without_continuous_columns, y_train_param], axis=1)\n",
    "\n",
    "        for target_value in self.target_values:\n",
    "            self.probabilities[int(target_value)] = self.get_target_value_probabilities(\n",
    "                dataset, target_value\n",
    "            )\n",
    "            \n",
    "    def get_probability_for_target_value(self, x_test_instance, target_value):\n",
    "        probability_for_target_value = self.base_target_probabilities[target_value]\n",
    "\n",
    "        for feature_name in x_test_instance.index:\n",
    "            feature_value = x_test_instance[feature_name]\n",
    "            probability_for_target_value *= (\n",
    "                self.probabilities[target_value][feature_name][feature_value]\n",
    "            )\n",
    "        \n",
    "        return probability_for_target_value\n",
    "            \n",
    "    def get_one_prediction(self, x_test_instance):\n",
    "        probability_for_target_values = []\n",
    "   \n",
    "        for target_value in self.target_values:\n",
    "            probability_for_target_value = self.get_probability_for_target_value(\n",
    "                x_test_instance, target_value\n",
    "            )\n",
    "\n",
    "            probability_for_target_values.append(probability_for_target_value)\n",
    "            \n",
    "        return self.target_values[np.argmax(probability_for_target_values)]\n",
    "            \n",
    "    def get_predictions_mesh_grid(self):\n",
    "        step = 0.1\n",
    "\n",
    "        x1_x, x2_y = np.mgrid[\n",
    "            self.PLOT_X1_LIM[0]:self.PLOT_X1_LIM[1]+step:step,\n",
    "            self.PLOT_X2_LIM[0]:self.PLOT_X2_LIM[1]+step:step\n",
    "        ]\n",
    "        pred_z = []\n",
    "\n",
    "        for i in range(x1_x.shape[0]):\n",
    "            pred_z_row = []\n",
    "          \n",
    "            for j in range(x1_x.shape[1]):\n",
    "                x_test_instance = pd.DataFrame([[x1_x[i][j], x2_y[i][j]]], columns=[\n",
    "                    'petal length (cm)', 'petal width (cm)'\n",
    "                ])\n",
    "                x_test_instance['petal length (cm) bins'] = petal_length_binner.transform(\n",
    "                    x_test_instance[['petal length (cm)']]\n",
    "                )\n",
    "                x_test_instance['petal width (cm) bins'] = petal_width_binner.transform(\n",
    "                    x_test_instance[['petal width (cm)']]\n",
    "                )\n",
    "                x_test_instance = pd.get_dummies(\n",
    "                    x_test_instance, columns=['petal width (cm) bins', 'petal length (cm) bins']\n",
    "                )\n",
    "                x_test_instance = x_test_instance.drop(\n",
    "                    ['petal length (cm)', 'petal width (cm)'], axis=1\n",
    "                )\n",
    "                x_test_instance = x_test_instance.iloc[0]\n",
    "\n",
    "                prediction = self.get_one_prediction(x_test_instance)\n",
    "                \n",
    "                pred_z_row.append(prediction)\n",
    "                \n",
    "            pred_z.append(pred_z_row)\n",
    "\n",
    "        return x1_x, x2_y, np.array(pred_z)\n",
    "\n",
    "    def animate(self, frame, ax, x_test_param, predictions, predictions_mesh_grid):\n",
    "        visualized_x_test = x_test_param[:(frame + 1)]\n",
    "        visualized_predictions = predictions[:(frame + 1)]\n",
    "\n",
    "        ax.clear()\n",
    "        ax.set_xlim(self.PLOT_X1_LIM)\n",
    "        ax.set_ylim(self.PLOT_X2_LIM)\n",
    "        ax.pcolormesh(predictions_mesh_grid[0], predictions_mesh_grid[1], predictions_mesh_grid[2],\n",
    "                      cmap=self.CMAP, alpha=0.5)\n",
    "\n",
    "        for i, target_value in enumerate(self.target_values):\n",
    "            target_value_indexes_for_training = self.y_train == target_value\n",
    "\n",
    "            ax.scatter(self.X_train.iloc[:, 0][target_value_indexes_for_training],\n",
    "                       self.X_train.iloc[:, 1][target_value_indexes_for_training],\n",
    "                       c=self.COLORS[target_value], alpha=0.3, zorder=1)\n",
    "            \n",
    "            target_value_indexes_for_testing = visualized_predictions == target_value\n",
    "\n",
    "            ax.scatter(visualized_x_test.iloc[:, 0][target_value_indexes_for_testing],\n",
    "                       visualized_x_test.iloc[:, 1][target_value_indexes_for_testing],\n",
    "                       c=self.COLORS[target_value], edgecolors='black', marker='s', zorder=2,\n",
    "                       label=f\"Classified As {iris.target_names[target_value].capitalize()}\")\n",
    "        \n",
    "        ax.legend()\n",
    "        ax.set_title(f\"#{frame + 1} Prediction\")\n",
    "        ax.set_xlabel('petal length (cm)')\n",
    "        ax.set_ylabel('petal width (cm)')\n",
    "        ax.set_xticks(np.arange(self.PLOT_X1_LIM[0], self.PLOT_X1_LIM[1]))\n",
    "        ax.set_yticks(np.arange(self.PLOT_X2_LIM[0], self.PLOT_X2_LIM[1]))\n",
    "     \n",
    "    def predict(self, x_test_param, create_animation=False):\n",
    "        predictions = []\n",
    "        x_test_without_continuous_columns = x_test_param.drop(\n",
    "            ['petal length (cm)', 'petal width (cm)'], axis=1\n",
    "        )\n",
    "        \n",
    "        for i in range(len(x_test_param)):\n",
    "            predictions.append(self.get_one_prediction(x_test_without_continuous_columns.iloc[i]))\n",
    "        \n",
    "        if create_animation:\n",
    "            frames = len(x_test_param)\n",
    "            predictions_mesh_grid = self.get_predictions_mesh_grid()\n",
    "\n",
    "            fig, ax = plt.subplots(figsize=plt.figaspect(1.))\n",
    "            animation = FuncAnimation(fig, self.animate, frames, fargs=(\n",
    "                ax, x_test_param, predictions, predictions_mesh_grid\n",
    "            ))\n",
    "\n",
    "            animation.save('bernoulli_naive_bayes.gif', writer=PillowWriter(fps=5), dpi=200)\n",
    "            \n",
    "        return predictions"
   ],
   "id": "32e2d4d0806f18a5",
   "outputs": [],
   "execution_count": 3
  },
  {
   "metadata": {},
   "cell_type": "markdown",
   "source": "## Create an Animation and Compare Implementations",
   "id": "9a0bda422f6d1dbb"
  },
  {
   "metadata": {
    "ExecuteTime": {
     "end_time": "2025-03-02T13:41:44.210797Z",
     "start_time": "2025-03-02T13:41:33.425309Z"
    }
   },
   "cell_type": "code",
   "source": [
    "model_from_scratch = BernoulliNBFromScratch()\n",
    "\n",
    "model_from_scratch.fit(X_train, y_train)\n",
    "\n",
    "y_pred = model_from_scratch.predict(X_test, create_animation=True)\n",
    "\n",
    "print(f\"Accuracy Score: {accuracy_score(y_test, y_pred)}\")"
   ],
   "id": "3d372121fa8f7491",
   "outputs": [
    {
     "name": "stdout",
     "output_type": "stream",
     "text": [
      "Accuracy Score: 0.9736842105263158\n"
     ]
    },
    {
     "data": {
      "text/plain": [
       "<Figure size 480x480 with 1 Axes>"
      ],
      "image/png": "[encoded data removed]"
     },
     "metadata": {},
     "output_type": "display_data"
    }
   ],
   "execution_count": 4
  },
  {
   "metadata": {
    "ExecuteTime": {
     "end_time": "2025-03-02T13:41:44.215801Z",
     "start_time": "2025-03-02T13:41:44.212297Z"
    }
   },
   "cell_type": "code",
   "source": [
    "X_train = X_train.drop(['petal length (cm)', 'petal width (cm)'], axis=1)\n",
    "X_test = X_test.drop(['petal length (cm)', 'petal width (cm)'], axis=1)"
   ],
   "id": "ce9d4925f7249d90",
   "outputs": [],
   "execution_count": 5
  },
  {
   "metadata": {
    "ExecuteTime": {
     "end_time": "2025-03-02T13:41:44.223801Z",
     "start_time": "2025-03-02T13:41:44.217001Z"
    }
   },
   "cell_type": "code",
   "source": [
    "model = BernoulliNB()\n",
    "\n",
    "model.fit(X_train, y_train)\n",
    "\n",
    "y_pred = model.predict(X_test)\n",
    "\n",
    "print(f\"Accuracy Score: {accuracy_score(y_test, y_pred)}\")"
   ],
   "id": "215e954f5758a69",
   "outputs": [
    {
     "name": "stdout",
     "output_type": "stream",
     "text": [
      "Accuracy Score: 0.9736842105263158\n"
     ]
    }
   ],
   "execution_count": 6
  },
  {
   "metadata": {},
   "cell_type": "code",
   "source": "",
   "id": "fb0bba08777ee293",
   "outputs": [],
   "execution_count": null
  }
 ],
 "metadata": {
  "kernelspec": {
   "display_name": "Python 3",
   "language": "python",
   "name": "python3"
  },
  "language_info": {
   "codemirror_mode": {
    "name": "ipython",
    "version": 2
   },
   "file_extension": ".py",
   "mimetype": "text/x-python",
   "name": "python",
   "nbconvert_exporter": "python",
   "pygments_lexer": "ipython2",
   "version": "2.7.6"
  }
 },
 "nbformat": 4,
 "nbformat_minor": 5
}
