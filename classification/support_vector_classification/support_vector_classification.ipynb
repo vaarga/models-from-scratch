{
 "cells": [
  {
   "metadata": {},
   "cell_type": "markdown",
   "source": "# Support Vector Classification",
   "id": "ef0084248a32e23c"
  },
  {
   "metadata": {
    "ExecuteTime": {
     "end_time": "2025-02-16T16:31:11.101994Z",
     "start_time": "2025-02-16T16:31:09.863939Z"
    }
   },
   "cell_type": "code",
   "source": [
    "import numpy as np\n",
    "import pandas as pd\n",
    "import matplotlib.pyplot as plt\n",
    "from matplotlib.colors import ListedColormap\n",
    "from matplotlib.animation import FuncAnimation, PillowWriter\n",
    "from sklearn.datasets import load_iris\n",
    "from sklearn.model_selection import train_test_split\n",
    "from sklearn.metrics import hinge_loss, accuracy_score\n",
    "from sklearn.svm import SVC"
   ],
   "id": "2af0d79f112a2c64",
   "outputs": [],
   "execution_count": 1
  },
  {
   "metadata": {},
   "cell_type": "markdown",
   "source": "## Load and Preprocess the Dataset",
   "id": "56e4c00385e647a3"
  },
  {
   "cell_type": "code",
   "id": "initial_id",
   "metadata": {
    "collapsed": true,
    "ExecuteTime": {
     "end_time": "2025-02-16T16:31:11.114385Z",
     "start_time": "2025-02-16T16:31:11.104060Z"
    }
   },
   "source": [
    "iris = load_iris(as_frame=True)\n",
    "selected_samples = iris.target > 0\n",
    "X = iris.data[['petal length (cm)', 'petal width (cm)']][selected_samples].reset_index(drop=True)\n",
    "y = iris.target[selected_samples].map({ 1: -1, 2: 1 }).reset_index(drop=True)\n",
    "X_train, X_test, y_train, y_test = train_test_split(X, y, random_state=42)"
   ],
   "outputs": [],
   "execution_count": 2
  },
  {
   "metadata": {},
   "cell_type": "markdown",
   "source": "## Create the Model from Scratch",
   "id": "4a5a388b38334e24"
  },
  {
   "metadata": {
    "ExecuteTime": {
     "end_time": "2025-02-16T16:31:11.132924Z",
     "start_time": "2025-02-16T16:31:11.115396Z"
    }
   },
   "cell_type": "code",
   "source": [
    "class SVCFromScratch:\n",
    "    PLOT_X_LIM = [3, 7]\n",
    "    PLOT_Y_LIM = [0, 4]\n",
    "    CMAP = ListedColormap(['lightskyblue', 'bisque'])\n",
    "    FIRST_TARGET_COLOR = 'tab:blue'\n",
    "    SECOND_TARGET_COLOR = 'tab:orange'\n",
    "    \n",
    "    def __init__(self, C=1):\n",
    "        self.C = C\n",
    "        self.w1 = 1\n",
    "        self.w2 = 1\n",
    "        self.b = 0\n",
    "\n",
    "    def get_linear(self, x1_param, x2_param):\n",
    "        return x1_param * self.w1 + x2_param * self.w2 + self.b\n",
    "\n",
    "    def is_violating_margin(self, x1_param, x2_param, y_param):\n",
    "        return y_param * self.get_linear(x1_param, x2_param) < 1\n",
    "\n",
    "    def get_objective_function_partial_derivative_wj(self, wj_param, xj_param, y_param):\n",
    "        return wj_param - self.C * np.sum(y_param * xj_param)\n",
    "    \n",
    "    def get_objective_function_partial_derivative_b(self, y_param):\n",
    "        return -self.C * np.sum(y_param)\n",
    "\n",
    "    def run_one_epoch(self, lr, x1_param, x2_param, y_param):\n",
    "        instance_indexes_violating_margin = self.is_violating_margin(x1_param, x2_param, y_param)\n",
    "        x1_violating_margin = x1_param[instance_indexes_violating_margin]\n",
    "        x2_violating_margin = x2_param[instance_indexes_violating_margin]\n",
    "        y_violating_margin = y_param[instance_indexes_violating_margin]\n",
    "        \n",
    "        self.w1 -= lr * self.get_objective_function_partial_derivative_wj(\n",
    "            self.w1, x1_violating_margin, y_violating_margin\n",
    "        )\n",
    "        self.w2 -= lr * self.get_objective_function_partial_derivative_wj(\n",
    "            self.w2, x2_violating_margin, y_violating_margin\n",
    "        )\n",
    "        self.b -= lr * self.get_objective_function_partial_derivative_b(y_violating_margin)\n",
    "    \n",
    "    def predict(self, x_param):\n",
    "        x1 = x_param.iloc[:, 0]\n",
    "        x2 = x_param.iloc[:, 1]\n",
    "        \n",
    "        return np.where(self.get_linear(x1, x2) > 0, +1, -1)\n",
    "    \n",
    "    def get_predictions_mesh_grid(self):\n",
    "        step = 0.1\n",
    "\n",
    "        xx, yy = np.mgrid[\n",
    "            self.PLOT_X_LIM[0]:self.PLOT_X_LIM[1]+step:step,\n",
    "            self.PLOT_Y_LIM[0]:self.PLOT_Y_LIM[1]+step:step\n",
    "        ]\n",
    "        zz = np.array([\n",
    "            [self.predict(pd.DataFrame([[xx[i, j], yy[i, j]]]))[0] \n",
    "             for j in range(xx.shape[1])]\n",
    "            for i in range(xx.shape[0])\n",
    "        ])\n",
    "\n",
    "        return xx, yy, zz\n",
    "    \n",
    "    def get_line_coordinates(self):\n",
    "        m = -(self.w1 / self.w2)\n",
    "        c = -(self.b / self.w2)\n",
    "\n",
    "        line_coordinates_x = np.arange(self.PLOT_X_LIM[0], self.PLOT_X_LIM[1] + 1, 0.1)\n",
    "        line_coordinates_y = m * line_coordinates_x + c\n",
    "        \n",
    "        return line_coordinates_x, line_coordinates_y\n",
    "    \n",
    "    def get_hinge_loss(self, x1_param, x2_param, y_param, zeros):\n",
    "        subject = 1 - y_param * self.get_linear(x1_param, x2_param)\n",
    "        \n",
    "        return np.sum(np.max(np.stack([zeros, subject], axis=1), axis=1))\n",
    "    \n",
    "    def animate(self, frame, ax, x1_param, x2_param, y_param, y_predicted_frames,\n",
    "                line_coordinates_x_frames, line_coordinates_y_frames, hinge_loss_frames,\n",
    "                predictions_mesh_grid_frames):\n",
    "        xx, yy, zz = predictions_mesh_grid_frames[frame]\n",
    "\n",
    "        is_correctly_classified = y_param == y_predicted_frames[frame]\n",
    "        is_wrongly_classified = np.invert(is_correctly_classified)\n",
    "        is_first_target = y_param == -1\n",
    "        is_second_target = np.invert(is_first_target)\n",
    "\n",
    "        cc_first_target_instance_indexes = is_correctly_classified & is_first_target\n",
    "        cc_second_target_instance_indexes = is_correctly_classified & is_second_target\n",
    "        wc_first_target_instance_indexes = is_wrongly_classified & is_first_target\n",
    "        wc_second_target_instance_indexes = is_wrongly_classified & is_second_target\n",
    "\n",
    "        ax.clear()\n",
    "        ax.set_xlim(self.PLOT_X_LIM)\n",
    "        ax.set_ylim(self.PLOT_Y_LIM)\n",
    "        ax.axhline(0, color='black')\n",
    "        ax.axvline(0, color='black')\n",
    "        ax.pcolormesh(xx, yy, zz, cmap=self.CMAP)\n",
    "        ax.scatter(x1_param[cc_first_target_instance_indexes],\n",
    "                   x2_param[cc_first_target_instance_indexes], c=self.FIRST_TARGET_COLOR, \n",
    "                   edgecolors='black', label='Correctly Classified As Versicolor')\n",
    "        ax.scatter(x1_param[cc_second_target_instance_indexes],\n",
    "                   x2_param[cc_second_target_instance_indexes], c=self.SECOND_TARGET_COLOR,\n",
    "                   edgecolors='black', label='Correctly Classified As Virginica')\n",
    "        ax.scatter(x1_param[wc_second_target_instance_indexes], \n",
    "                   x2_param[wc_second_target_instance_indexes], c=self.FIRST_TARGET_COLOR, \n",
    "                   edgecolors='red', label='Wrongly Classified As Versicolor')\n",
    "        ax.scatter(x1_param[wc_first_target_instance_indexes], \n",
    "                   x2_param[wc_first_target_instance_indexes], c=self.SECOND_TARGET_COLOR, \n",
    "                   edgecolors='red', label='Wrongly Classified As Virginica')\n",
    "        ax.legend()\n",
    "        ax.plot(line_coordinates_x_frames[frame], line_coordinates_y_frames[frame], color='red')\n",
    "        ax.set_axisbelow(True)\n",
    "        ax.grid(color='grey')\n",
    "        ax.set_title(f\"Epoch: {frame + 1} (HL={hinge_loss_frames[frame]:.5f})\")\n",
    "        ax.set_xlabel('petal length (cm)')\n",
    "        ax.set_ylabel('petal width (cm)')\n",
    "        ax.set_xticks(np.arange(self.PLOT_X_LIM[0], self.PLOT_X_LIM[1]))\n",
    "        ax.set_yticks(np.arange(self.PLOT_Y_LIM[0], self.PLOT_Y_LIM[1]))\n",
    "    \n",
    "    def fit(self, x_param, y_param, lr=0.001, epochs=100, create_animation=False):\n",
    "        if len(x_param.shape) != 2:\n",
    "            raise Exception((\"This support vector classifier implementation works only with \"\n",
    "                             \"two-dimensional features!\"))\n",
    "        if len(y_param.unique()) != 2:\n",
    "            raise Exception((\"This support vector classifier implementation works only with \"\n",
    "                             \"two target values!\"))\n",
    "\n",
    "        x1 = x_param.iloc[:, 0]\n",
    "        x2 = x_param.iloc[:, 1]\n",
    "        zeros = np.zeros(len(x_param))\n",
    "        \n",
    "        y_predicted_frames = []\n",
    "        predictions_mesh_grid_frames = []\n",
    "        line_coordinates_x_frames = []\n",
    "        line_coordinates_y_frames = []\n",
    "        hinge_loss_frames = []\n",
    "        \n",
    "        for epoch in range(epochs):\n",
    "            self.run_one_epoch(lr, x1, x2, y_param)\n",
    "            \n",
    "            if create_animation:\n",
    "                y_predicted = self.predict(x_param)\n",
    "                predictions_mesh_grid = self.get_predictions_mesh_grid()\n",
    "                line_coordinates_x, line_coordinates_y = self.get_line_coordinates()\n",
    "                hl = self.get_hinge_loss(x1, x2, y_param, zeros)\n",
    "                \n",
    "                y_predicted_frames.append(y_predicted)\n",
    "                predictions_mesh_grid_frames.append(predictions_mesh_grid)\n",
    "                line_coordinates_x_frames.append(line_coordinates_x)\n",
    "                line_coordinates_y_frames.append(line_coordinates_y)\n",
    "                hinge_loss_frames.append(hl)\n",
    "            \n",
    "        if create_animation:\n",
    "            fig, ax = plt.subplots(figsize=plt.figaspect(1.))\n",
    "            animation = FuncAnimation(fig, self.animate, epochs, fargs=(\n",
    "                ax, x1, x2, y_param, y_predicted_frames, line_coordinates_x_frames,\n",
    "                line_coordinates_y_frames, hinge_loss_frames, predictions_mesh_grid_frames\n",
    "            ))\n",
    "\n",
    "            animation.save('support_vector_classification.gif', writer=PillowWriter(fps=15),\n",
    "                           dpi=200)"
   ],
   "id": "32e2d4d0806f18a5",
   "outputs": [],
   "execution_count": 3
  },
  {
   "metadata": {},
   "cell_type": "markdown",
   "source": "## Create an Animation and Compare Implementations",
   "id": "cf0c4bcbc3d2eec8"
  },
  {
   "metadata": {
    "ExecuteTime": {
     "end_time": "2025-02-16T16:34:27.942808Z",
     "start_time": "2025-02-16T16:31:11.763699Z"
    }
   },
   "cell_type": "code",
   "source": [
    "model_from_scratch = SVCFromScratch()\n",
    "\n",
    "model_from_scratch.fit(X_train, y_train, epochs=300, create_animation=True)\n",
    "\n",
    "y_pred = model_from_scratch.predict(X_test)\n",
    "\n",
    "print(f\"Hinge Loss: {hinge_loss(y_test, y_pred)}\")\n",
    "print(f\"Accuracy Score: {accuracy_score(y_test, y_pred)}\")"
   ],
   "id": "3d372121fa8f7491",
   "outputs": [
    {
     "name": "stdout",
     "output_type": "stream",
     "text": [
      "Hinge Loss: 0.16\n",
      "Accuracy Score: 0.92\n"
     ]
    },
    {
     "data": {
      "text/plain": [
       "<Figure size 480x480 with 1 Axes>"
      ],
      "image/png": "[encoded data removed]"
     },
     "metadata": {},
     "output_type": "display_data"
    }
   ],
   "execution_count": 4
  },
  {
   "metadata": {
    "ExecuteTime": {
     "end_time": "2025-02-16T16:34:27.954117Z",
     "start_time": "2025-02-16T16:34:27.944447Z"
    }
   },
   "cell_type": "code",
   "source": [
    "model = SVC()\n",
    "\n",
    "model.fit(X_train, y_train)\n",
    "\n",
    "y_pred = model.predict(X_test)\n",
    "\n",
    "print(f\"Hinge Loss: {hinge_loss(y_test, y_pred)}\")\n",
    "print(f\"Accuracy Score: {accuracy_score(y_test, y_pred)}\")"
   ],
   "id": "215e954f5758a69",
   "outputs": [
    {
     "name": "stdout",
     "output_type": "stream",
     "text": [
      "Hinge Loss: 0.32\n",
      "Accuracy Score: 0.84\n"
     ]
    }
   ],
   "execution_count": 5
  },
  {
   "metadata": {},
   "cell_type": "code",
   "source": "",
   "id": "3142e9d396ceaa2a",
   "outputs": [],
   "execution_count": null
  }
 ],
 "metadata": {
  "kernelspec": {
   "display_name": "Python 3",
   "language": "python",
   "name": "python3"
  },
  "language_info": {
   "codemirror_mode": {
    "name": "ipython",
    "version": 2
   },
   "file_extension": ".py",
   "mimetype": "text/x-python",
   "name": "python",
   "nbconvert_exporter": "python",
   "pygments_lexer": "ipython2",
   "version": "2.7.6"
  }
 },
 "nbformat": 4,
 "nbformat_minor": 5
}
