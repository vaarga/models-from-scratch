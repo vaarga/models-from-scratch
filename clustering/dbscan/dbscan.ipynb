{
 "cells": [
  {
   "metadata": {},
   "cell_type": "markdown",
   "source": "# DBSCAN",
   "id": "ef0084248a32e23c"
  },
  {
   "metadata": {
    "ExecuteTime": {
     "end_time": "2025-03-17T19:23:51.489388Z",
     "start_time": "2025-03-17T19:23:50.213984Z"
    }
   },
   "cell_type": "code",
   "source": [
    "import numpy as np\n",
    "import matplotlib.pyplot as plt\n",
    "from matplotlib.animation import FuncAnimation, PillowWriter\n",
    "from sklearn.datasets import load_iris\n",
    "from sklearn.metrics import adjusted_rand_score\n",
    "from sklearn.cluster import DBSCAN"
   ],
   "id": "2af0d79f112a2c64",
   "outputs": [],
   "execution_count": 1
  },
  {
   "metadata": {},
   "cell_type": "markdown",
   "source": "## Load and Preprocess the Dataset",
   "id": "56e4c00385e647a3"
  },
  {
   "cell_type": "code",
   "id": "initial_id",
   "metadata": {
    "collapsed": true,
    "ExecuteTime": {
     "end_time": "2025-03-17T19:23:52.240308Z",
     "start_time": "2025-03-17T19:23:52.230773Z"
    }
   },
   "source": [
    "iris = load_iris(as_frame=True)\n",
    "selected_samples = iris.target < 2\n",
    "X = iris.data[['petal length (cm)', 'petal width (cm)']][selected_samples]\n",
    "# Remove duplicates for better visualization\n",
    "X = X.drop_duplicates()\n",
    "y = iris.target[selected_samples][X.index]"
   ],
   "outputs": [],
   "execution_count": 2
  },
  {
   "metadata": {},
   "cell_type": "markdown",
   "source": "## Create the Algorithm from Scratch",
   "id": "4a5a388b38334e24"
  },
  {
   "metadata": {
    "ExecuteTime": {
     "end_time": "2025-03-17T19:23:53.044842Z",
     "start_time": "2025-03-17T19:23:53.030594Z"
    }
   },
   "cell_type": "code",
   "source": [
    "class DBSCANFromScratch:\n",
    "    CORE_POINT = 'core_point'\n",
    "    BORDER_POINT = 'border_point'\n",
    "    COLORS = ['tab:blue', 'tab:orange']\n",
    "    PLOT_X1_LIM = [1, 5.1]\n",
    "    PLOT_X2_LIM = [0.1, 1.8]\n",
    "    \n",
    "    def __init__(self, eps=0.5, min_samples=5):\n",
    "        self.eps = eps\n",
    "        self.min_samples = min_samples\n",
    "        self.iterated_points = None\n",
    "        self.predictions = None\n",
    "        self.cluster_counter = 0\n",
    "\n",
    "    @staticmethod\n",
    "    def get_distance_between_points(x_param, x_len):\n",
    "        x_stacked = np.stack([x_param] * x_len)\n",
    "        x_repeated = np.repeat(x_param, x_len, axis=0)\n",
    "        points_dimension = len(x_param[0])\n",
    "        x_repeated = x_repeated.reshape((x_len, x_len, points_dimension))\n",
    "        \n",
    "        return np.linalg.norm(x_stacked - x_repeated, axis=2)\n",
    "\n",
    "    def traverse_and_assign_points_recursively(self, are_points_in_neighborhood, point_types, \n",
    "                                               predictions_frames, point_index, \n",
    "                                               is_starting_new_cluster=False):\n",
    "        if point_types[point_index] != self.BORDER_POINT and not self.iterated_points[point_index]:\n",
    "            self.iterated_points[point_index] = True\n",
    "            self.predictions[point_index] = self.cluster_counter\n",
    "            \n",
    "            predictions_frames.append(np.copy(self.predictions))\n",
    "            \n",
    "            neighborhood_point_indexes = np.nonzero(are_points_in_neighborhood[point_index])[0]\n",
    "\n",
    "            for neighborhood_point_index in neighborhood_point_indexes:\n",
    "                self.traverse_and_assign_points_recursively(are_points_in_neighborhood,\n",
    "                                                            point_types, \n",
    "                                                            predictions_frames, \n",
    "                                                            neighborhood_point_index)\n",
    "                \n",
    "            if is_starting_new_cluster:\n",
    "                self.cluster_counter += 1\n",
    "    \n",
    "    def animate(self, frame, ax, x1_param, x2_param, point_types, predictions_frames):\n",
    "        predictions = predictions_frames[frame]\n",
    "        core_point_indexes = (point_types == self.CORE_POINT) & (predictions == -1)\n",
    "        border_point_indexes = (point_types == self.BORDER_POINT) & (predictions == -1)\n",
    "        clusters = np.unique(predictions)\n",
    "        clusters = clusters[clusters != -1]\n",
    "        \n",
    "        ax.clear()\n",
    "        ax.set_xlim(self.PLOT_X1_LIM)\n",
    "        ax.set_ylim(self.PLOT_X2_LIM)\n",
    "        ax.scatter(x1_param[core_point_indexes], x2_param[core_point_indexes], c='black',\n",
    "                   edgecolors='black', label='Core Points')\n",
    "        ax.scatter(x1_param[border_point_indexes], x2_param[border_point_indexes], \n",
    "                   facecolor='none', edgecolors='black', label='Border Points')\n",
    "        \n",
    "        for cluster_index, cluster in enumerate(clusters):\n",
    "            cluster_point_indexes = predictions == cluster\n",
    "\n",
    "            ax.scatter(x1_param[cluster_point_indexes], x2_param[cluster_point_indexes], \n",
    "                       c=self.COLORS[cluster_index], \n",
    "                       label=f\"Cluster {cluster_index + 1} Instances\")\n",
    "\n",
    "        ax.legend()\n",
    "        ax.set_axisbelow(True)\n",
    "        ax.grid(color='grey')\n",
    "        ax.set_title(f\"#{frame + 1} Iteration\")\n",
    "        ax.set_xlabel('petal length (cm)')\n",
    "        ax.set_ylabel('petal width (cm)')\n",
    "        ax.set_xticks(np.arange(self.PLOT_X1_LIM[0], self.PLOT_X1_LIM[1], 0.2))\n",
    "        ax.xaxis.set_tick_params(rotation=90)\n",
    "        ax.set_yticks(np.arange(self.PLOT_X2_LIM[0], self.PLOT_X2_LIM[1], 0.2))\n",
    "    \n",
    "    def fit_predict(self, x_param, create_animation=False):\n",
    "        x = np.array(x_param)\n",
    "        x_len = len(x)\n",
    "        distance_between_points = self.get_distance_between_points(x, x_len)\n",
    "        are_points_in_neighborhood = distance_between_points <= self.eps\n",
    "        points_nr_in_neighborhood = np.sum(are_points_in_neighborhood, axis=0)\n",
    "        point_types = np.where(points_nr_in_neighborhood >= self.min_samples, self.CORE_POINT, \n",
    "                               self.BORDER_POINT)\n",
    "        self.iterated_points = np.zeros(x_len, dtype=np.bool_)\n",
    "        self.predictions = np.full(x_len, -1)\n",
    "        predictions_frames = [np.copy(self.predictions)]\n",
    "    \n",
    "        for point_index in range(x_len):\n",
    "            self.traverse_and_assign_points_recursively(are_points_in_neighborhood, point_types, \n",
    "                                                        predictions_frames, point_index, True)\n",
    "        \n",
    "        border_point_indexes = np.nonzero(point_types == self.BORDER_POINT)[0]\n",
    "            \n",
    "        for border_point_index in border_point_indexes:\n",
    "            neighborhood_point_indexes = np.nonzero(\n",
    "                are_points_in_neighborhood[border_point_index]\n",
    "            )[0]\n",
    "            \n",
    "            for neighborhood_point_index in neighborhood_point_indexes:\n",
    "                if (neighborhood_point_index != border_point_index\n",
    "                    and point_types[neighborhood_point_index] != self.BORDER_POINT):\n",
    "                    self.predictions[border_point_index] = self.predictions[\n",
    "                        neighborhood_point_index\n",
    "                    ]\n",
    "                    \n",
    "                    predictions_frames.append(np.copy(self.predictions))\n",
    "                    \n",
    "                    break\n",
    "\n",
    "        if create_animation:\n",
    "            if len(x_param.iloc[0]) != 2:\n",
    "                raise Exception((\"This DBSCAN animation implementation works only with \"\n",
    "                                 \"two-dimensional features!\"))\n",
    "            \n",
    "            frames = len(predictions_frames)\n",
    "            x1 = x_param.iloc[:, 0]\n",
    "            x2 = x_param.iloc[:, 1]\n",
    "            fig, ax = plt.subplots(figsize=plt.figaspect(1))\n",
    "            animation = FuncAnimation(fig, self.animate, frames, fargs=(\n",
    "                ax, x1, x2, point_types, predictions_frames\n",
    "            ))\n",
    "\n",
    "            animation.save('dbscan.gif', writer=PillowWriter(fps=3), dpi=200)\n",
    "          \n",
    "        return self.predictions"
   ],
   "id": "32e2d4d0806f18a5",
   "outputs": [],
   "execution_count": 3
  },
  {
   "metadata": {},
   "cell_type": "markdown",
   "source": "## Create an Animation and Compare Implementations",
   "id": "cf0c4bcbc3d2eec8"
  },
  {
   "metadata": {
    "ExecuteTime": {
     "end_time": "2025-03-17T19:24:01.057890Z",
     "start_time": "2025-03-17T19:23:54.122010Z"
    }
   },
   "cell_type": "code",
   "source": [
    "model_from_scratch = DBSCANFromScratch(eps=0.20)\n",
    "\n",
    "y_pred = model_from_scratch.fit_predict(X, create_animation=True)\n",
    "\n",
    "print(f\"Adjusted Rand Index: {adjusted_rand_score(y, y_pred)}\")"
   ],
   "id": "3d372121fa8f7491",
   "outputs": [
    {
     "name": "stdout",
     "output_type": "stream",
     "text": [
      "Adjusted Rand Index: 0.6889628040678437\n"
     ]
    },
    {
     "data": {
      "text/plain": [
       "<Figure size 480x480 with 1 Axes>"
      ],
      "image/png": "[encoded data removed]"
     },
     "metadata": {},
     "output_type": "display_data"
    }
   ],
   "execution_count": 4
  },
  {
   "metadata": {
    "ExecuteTime": {
     "end_time": "2025-03-17T19:24:01.068341Z",
     "start_time": "2025-03-17T19:24:01.059562Z"
    }
   },
   "cell_type": "code",
   "source": [
    "model = DBSCAN(eps=0.20)\n",
    "\n",
    "y_pred = model.fit_predict(X)\n",
    "\n",
    "print(f\"Adjusted Rand Index: {adjusted_rand_score(y, y_pred)}\")"
   ],
   "id": "215e954f5758a69",
   "outputs": [
    {
     "name": "stdout",
     "output_type": "stream",
     "text": [
      "Adjusted Rand Index: 0.6889628040678437\n"
     ]
    }
   ],
   "execution_count": 5
  },
  {
   "metadata": {},
   "cell_type": "code",
   "source": "",
   "id": "b85ad2bfed19feab",
   "outputs": [],
   "execution_count": null
  }
 ],
 "metadata": {
  "kernelspec": {
   "display_name": "Python 3",
   "language": "python",
   "name": "python3"
  },
  "language_info": {
   "codemirror_mode": {
    "name": "ipython",
    "version": 2
   },
   "file_extension": ".py",
   "mimetype": "text/x-python",
   "name": "python",
   "nbconvert_exporter": "python",
   "pygments_lexer": "ipython2",
   "version": "2.7.6"
  }
 },
 "nbformat": 4,
 "nbformat_minor": 5
}
